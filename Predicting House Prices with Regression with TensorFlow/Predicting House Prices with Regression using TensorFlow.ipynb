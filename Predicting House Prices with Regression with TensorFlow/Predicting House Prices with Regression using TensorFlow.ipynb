{
 "cells": [
  {
   "cell_type": "markdown",
   "metadata": {},
   "source": [
    "# Introduction\n",
    "\n",
    "For this project, there will be evaluation of house prices given the following feature:\n",
    "- Year of Sale of the house\n",
    "- The age of the house at the time of sale\n",
    "- Distance from the city centre\n",
    "- Number of stores in the facility\n",
    "- Latitude\n",
    "- Longitude\n"
   ]
  },
  {
   "cell_type": "code",
   "execution_count": 30,
   "metadata": {},
   "outputs": [
    {
     "name": "stdout",
     "output_type": "stream",
     "text": [
      "Modules are imported\n"
     ]
    }
   ],
   "source": [
    "import tensorflow as tf\n",
    "import pandas as pd\n",
    "import matplotlib.pyplot as ply\n",
    "from utils import *\n",
    "from sklearn.model_selection import train_test_split\n",
    "from tensorflow.keras.models import Sequential\n",
    "from tensorflow.keras.layers import Dense, Dropout\n",
    "from tensorflow.keras.callbacks import EarlyStopping\n",
    "%matplotlib inline\n",
    "tf.compat.v1.logging.set_verbosity(tf.compat.v1.logging.ERROR)\n",
    "print(\"Modules are imported\")"
   ]
  },
  {
   "cell_type": "code",
   "execution_count": 2,
   "metadata": {},
   "outputs": [
    {
     "data": {
      "text/plain": [
       "'tf.keras.callbacks.LambdaCallback(\\n    on_epoch_begin=None, on_epoch_end=None, on_batch_begin=None, on_batch_end=None,\\n    on_train_begin=None, on_train_end=None, **kwargs\\n)\\n'"
      ]
     },
     "execution_count": 2,
     "metadata": {},
     "output_type": "execute_result"
    }
   ],
   "source": [
    "\"\"\"tf.keras.callbacks.LambdaCallback(\n",
    "    on_epoch_begin=None, on_epoch_end=None, on_batch_begin=None, on_batch_end=None,\n",
    "    on_train_begin=None, on_train_end=None, **kwargs\n",
    ")\n",
    "\"\"\""
   ]
  },
  {
   "cell_type": "markdown",
   "metadata": {},
   "source": [
    "### Importing the data"
   ]
  },
  {
   "cell_type": "code",
   "execution_count": 3,
   "metadata": {},
   "outputs": [
    {
     "data": {
      "text/html": [
       "<div>\n",
       "<style scoped>\n",
       "    .dataframe tbody tr th:only-of-type {\n",
       "        vertical-align: middle;\n",
       "    }\n",
       "\n",
       "    .dataframe tbody tr th {\n",
       "        vertical-align: top;\n",
       "    }\n",
       "\n",
       "    .dataframe thead th {\n",
       "        text-align: right;\n",
       "    }\n",
       "</style>\n",
       "<table border=\"1\" class=\"dataframe\">\n",
       "  <thead>\n",
       "    <tr style=\"text-align: right;\">\n",
       "      <th></th>\n",
       "      <th>serial</th>\n",
       "      <th>date</th>\n",
       "      <th>age</th>\n",
       "      <th>distance</th>\n",
       "      <th>stores</th>\n",
       "      <th>latitude</th>\n",
       "      <th>longitude</th>\n",
       "      <th>price</th>\n",
       "    </tr>\n",
       "  </thead>\n",
       "  <tbody>\n",
       "    <tr>\n",
       "      <th>0</th>\n",
       "      <td>0</td>\n",
       "      <td>2009</td>\n",
       "      <td>21</td>\n",
       "      <td>9</td>\n",
       "      <td>6</td>\n",
       "      <td>84</td>\n",
       "      <td>121</td>\n",
       "      <td>14264</td>\n",
       "    </tr>\n",
       "    <tr>\n",
       "      <th>1</th>\n",
       "      <td>1</td>\n",
       "      <td>2007</td>\n",
       "      <td>4</td>\n",
       "      <td>2</td>\n",
       "      <td>3</td>\n",
       "      <td>86</td>\n",
       "      <td>121</td>\n",
       "      <td>12032</td>\n",
       "    </tr>\n",
       "    <tr>\n",
       "      <th>2</th>\n",
       "      <td>2</td>\n",
       "      <td>2016</td>\n",
       "      <td>18</td>\n",
       "      <td>3</td>\n",
       "      <td>7</td>\n",
       "      <td>90</td>\n",
       "      <td>120</td>\n",
       "      <td>13560</td>\n",
       "    </tr>\n",
       "    <tr>\n",
       "      <th>3</th>\n",
       "      <td>3</td>\n",
       "      <td>2002</td>\n",
       "      <td>13</td>\n",
       "      <td>2</td>\n",
       "      <td>2</td>\n",
       "      <td>80</td>\n",
       "      <td>128</td>\n",
       "      <td>12029</td>\n",
       "    </tr>\n",
       "    <tr>\n",
       "      <th>4</th>\n",
       "      <td>4</td>\n",
       "      <td>2014</td>\n",
       "      <td>25</td>\n",
       "      <td>5</td>\n",
       "      <td>8</td>\n",
       "      <td>81</td>\n",
       "      <td>122</td>\n",
       "      <td>14157</td>\n",
       "    </tr>\n",
       "  </tbody>\n",
       "</table>\n",
       "</div>"
      ],
      "text/plain": [
       "   serial  date  age  distance  stores  latitude  longitude  price\n",
       "0       0  2009   21         9       6        84        121  14264\n",
       "1       1  2007    4         2       3        86        121  12032\n",
       "2       2  2016   18         3       7        90        120  13560\n",
       "3       3  2002   13         2       2        80        128  12029\n",
       "4       4  2014   25         5       8        81        122  14157"
      ]
     },
     "execution_count": 3,
     "metadata": {},
     "output_type": "execute_result"
    }
   ],
   "source": [
    "house_data = pd.read_csv(\"house_data.csv\", names = column_names)\n",
    "house_data.head()"
   ]
  },
  {
   "cell_type": "code",
   "execution_count": 4,
   "metadata": {},
   "outputs": [
    {
     "data": {
      "text/plain": [
       "serial       0\n",
       "date         0\n",
       "age          0\n",
       "distance     0\n",
       "stores       0\n",
       "latitude     0\n",
       "longitude    0\n",
       "price        0\n",
       "dtype: int64"
      ]
     },
     "execution_count": 4,
     "metadata": {},
     "output_type": "execute_result"
    }
   ],
   "source": [
    "house_data.isna().sum()"
   ]
  },
  {
   "cell_type": "markdown",
   "metadata": {},
   "source": [
    "## Data Normalization"
   ]
  },
  {
   "cell_type": "code",
   "execution_count": 5,
   "metadata": {},
   "outputs": [
    {
     "data": {
      "text/html": [
       "<div>\n",
       "<style scoped>\n",
       "    .dataframe tbody tr th:only-of-type {\n",
       "        vertical-align: middle;\n",
       "    }\n",
       "\n",
       "    .dataframe tbody tr th {\n",
       "        vertical-align: top;\n",
       "    }\n",
       "\n",
       "    .dataframe thead th {\n",
       "        text-align: right;\n",
       "    }\n",
       "</style>\n",
       "<table border=\"1\" class=\"dataframe\">\n",
       "  <thead>\n",
       "    <tr style=\"text-align: right;\">\n",
       "      <th></th>\n",
       "      <th>date</th>\n",
       "      <th>age</th>\n",
       "      <th>distance</th>\n",
       "      <th>stores</th>\n",
       "      <th>latitude</th>\n",
       "      <th>longitude</th>\n",
       "      <th>price</th>\n",
       "    </tr>\n",
       "  </thead>\n",
       "  <tbody>\n",
       "    <tr>\n",
       "      <th>0</th>\n",
       "      <td>2009</td>\n",
       "      <td>21</td>\n",
       "      <td>9</td>\n",
       "      <td>6</td>\n",
       "      <td>84</td>\n",
       "      <td>121</td>\n",
       "      <td>14264</td>\n",
       "    </tr>\n",
       "    <tr>\n",
       "      <th>1</th>\n",
       "      <td>2007</td>\n",
       "      <td>4</td>\n",
       "      <td>2</td>\n",
       "      <td>3</td>\n",
       "      <td>86</td>\n",
       "      <td>121</td>\n",
       "      <td>12032</td>\n",
       "    </tr>\n",
       "    <tr>\n",
       "      <th>2</th>\n",
       "      <td>2016</td>\n",
       "      <td>18</td>\n",
       "      <td>3</td>\n",
       "      <td>7</td>\n",
       "      <td>90</td>\n",
       "      <td>120</td>\n",
       "      <td>13560</td>\n",
       "    </tr>\n",
       "    <tr>\n",
       "      <th>3</th>\n",
       "      <td>2002</td>\n",
       "      <td>13</td>\n",
       "      <td>2</td>\n",
       "      <td>2</td>\n",
       "      <td>80</td>\n",
       "      <td>128</td>\n",
       "      <td>12029</td>\n",
       "    </tr>\n",
       "    <tr>\n",
       "      <th>4</th>\n",
       "      <td>2014</td>\n",
       "      <td>25</td>\n",
       "      <td>5</td>\n",
       "      <td>8</td>\n",
       "      <td>81</td>\n",
       "      <td>122</td>\n",
       "      <td>14157</td>\n",
       "    </tr>\n",
       "    <tr>\n",
       "      <th>...</th>\n",
       "      <td>...</td>\n",
       "      <td>...</td>\n",
       "      <td>...</td>\n",
       "      <td>...</td>\n",
       "      <td>...</td>\n",
       "      <td>...</td>\n",
       "      <td>...</td>\n",
       "    </tr>\n",
       "    <tr>\n",
       "      <th>4995</th>\n",
       "      <td>2007</td>\n",
       "      <td>17</td>\n",
       "      <td>6</td>\n",
       "      <td>3</td>\n",
       "      <td>90</td>\n",
       "      <td>125</td>\n",
       "      <td>13539</td>\n",
       "    </tr>\n",
       "    <tr>\n",
       "      <th>4996</th>\n",
       "      <td>2016</td>\n",
       "      <td>7</td>\n",
       "      <td>10</td>\n",
       "      <td>0</td>\n",
       "      <td>85</td>\n",
       "      <td>129</td>\n",
       "      <td>14757</td>\n",
       "    </tr>\n",
       "    <tr>\n",
       "      <th>4997</th>\n",
       "      <td>2017</td>\n",
       "      <td>6</td>\n",
       "      <td>10</td>\n",
       "      <td>5</td>\n",
       "      <td>90</td>\n",
       "      <td>125</td>\n",
       "      <td>14102</td>\n",
       "    </tr>\n",
       "    <tr>\n",
       "      <th>4998</th>\n",
       "      <td>2010</td>\n",
       "      <td>37</td>\n",
       "      <td>3</td>\n",
       "      <td>5</td>\n",
       "      <td>81</td>\n",
       "      <td>128</td>\n",
       "      <td>14313</td>\n",
       "    </tr>\n",
       "    <tr>\n",
       "      <th>4999</th>\n",
       "      <td>2018</td>\n",
       "      <td>9</td>\n",
       "      <td>1</td>\n",
       "      <td>9</td>\n",
       "      <td>90</td>\n",
       "      <td>127</td>\n",
       "      <td>12770</td>\n",
       "    </tr>\n",
       "  </tbody>\n",
       "</table>\n",
       "<p>5000 rows × 7 columns</p>\n",
       "</div>"
      ],
      "text/plain": [
       "      date  age  distance  stores  latitude  longitude  price\n",
       "0     2009   21         9       6        84        121  14264\n",
       "1     2007    4         2       3        86        121  12032\n",
       "2     2016   18         3       7        90        120  13560\n",
       "3     2002   13         2       2        80        128  12029\n",
       "4     2014   25         5       8        81        122  14157\n",
       "...    ...  ...       ...     ...       ...        ...    ...\n",
       "4995  2007   17         6       3        90        125  13539\n",
       "4996  2016    7        10       0        85        129  14757\n",
       "4997  2017    6        10       5        90        125  14102\n",
       "4998  2010   37         3       5        81        128  14313\n",
       "4999  2018    9         1       9        90        127  12770\n",
       "\n",
       "[5000 rows x 7 columns]"
      ]
     },
     "execution_count": 5,
     "metadata": {},
     "output_type": "execute_result"
    }
   ],
   "source": [
    "house_data = house_data.drop(\"serial\", axis = 1)\n",
    "house_data\n",
    "#house_data = house_data.iloc[:,1:]"
   ]
  },
  {
   "cell_type": "code",
   "execution_count": 6,
   "metadata": {},
   "outputs": [
    {
     "data": {
      "text/html": [
       "<div>\n",
       "<style scoped>\n",
       "    .dataframe tbody tr th:only-of-type {\n",
       "        vertical-align: middle;\n",
       "    }\n",
       "\n",
       "    .dataframe tbody tr th {\n",
       "        vertical-align: top;\n",
       "    }\n",
       "\n",
       "    .dataframe thead th {\n",
       "        text-align: right;\n",
       "    }\n",
       "</style>\n",
       "<table border=\"1\" class=\"dataframe\">\n",
       "  <thead>\n",
       "    <tr style=\"text-align: right;\">\n",
       "      <th></th>\n",
       "      <th>date</th>\n",
       "      <th>age</th>\n",
       "      <th>distance</th>\n",
       "      <th>stores</th>\n",
       "      <th>latitude</th>\n",
       "      <th>longitude</th>\n",
       "      <th>price</th>\n",
       "    </tr>\n",
       "  </thead>\n",
       "  <tbody>\n",
       "    <tr>\n",
       "      <th>0</th>\n",
       "      <td>0.015978</td>\n",
       "      <td>0.181384</td>\n",
       "      <td>1.257002</td>\n",
       "      <td>0.345224</td>\n",
       "      <td>-0.307212</td>\n",
       "      <td>-1.260799</td>\n",
       "      <td>0.350088</td>\n",
       "    </tr>\n",
       "    <tr>\n",
       "      <th>1</th>\n",
       "      <td>-0.350485</td>\n",
       "      <td>-1.319118</td>\n",
       "      <td>-0.930610</td>\n",
       "      <td>-0.609312</td>\n",
       "      <td>0.325301</td>\n",
       "      <td>-1.260799</td>\n",
       "      <td>-1.836486</td>\n",
       "    </tr>\n",
       "    <tr>\n",
       "      <th>2</th>\n",
       "      <td>1.298598</td>\n",
       "      <td>-0.083410</td>\n",
       "      <td>-0.618094</td>\n",
       "      <td>0.663402</td>\n",
       "      <td>1.590328</td>\n",
       "      <td>-1.576456</td>\n",
       "      <td>-0.339584</td>\n",
       "    </tr>\n",
       "    <tr>\n",
       "      <th>3</th>\n",
       "      <td>-1.266643</td>\n",
       "      <td>-0.524735</td>\n",
       "      <td>-0.930610</td>\n",
       "      <td>-0.927491</td>\n",
       "      <td>-1.572238</td>\n",
       "      <td>0.948803</td>\n",
       "      <td>-1.839425</td>\n",
       "    </tr>\n",
       "    <tr>\n",
       "      <th>4</th>\n",
       "      <td>0.932135</td>\n",
       "      <td>0.534444</td>\n",
       "      <td>0.006938</td>\n",
       "      <td>0.981581</td>\n",
       "      <td>-1.255981</td>\n",
       "      <td>-0.945141</td>\n",
       "      <td>0.245266</td>\n",
       "    </tr>\n",
       "    <tr>\n",
       "      <th>...</th>\n",
       "      <td>...</td>\n",
       "      <td>...</td>\n",
       "      <td>...</td>\n",
       "      <td>...</td>\n",
       "      <td>...</td>\n",
       "      <td>...</td>\n",
       "      <td>...</td>\n",
       "    </tr>\n",
       "    <tr>\n",
       "      <th>4995</th>\n",
       "      <td>-0.350485</td>\n",
       "      <td>-0.171675</td>\n",
       "      <td>0.319454</td>\n",
       "      <td>-0.609312</td>\n",
       "      <td>1.590328</td>\n",
       "      <td>0.001831</td>\n",
       "      <td>-0.360156</td>\n",
       "    </tr>\n",
       "    <tr>\n",
       "      <th>4996</th>\n",
       "      <td>1.298598</td>\n",
       "      <td>-1.054324</td>\n",
       "      <td>1.569518</td>\n",
       "      <td>-1.563848</td>\n",
       "      <td>0.009045</td>\n",
       "      <td>1.264460</td>\n",
       "      <td>0.833055</td>\n",
       "    </tr>\n",
       "    <tr>\n",
       "      <th>4997</th>\n",
       "      <td>1.481830</td>\n",
       "      <td>-1.142588</td>\n",
       "      <td>1.569518</td>\n",
       "      <td>0.027045</td>\n",
       "      <td>1.590328</td>\n",
       "      <td>0.001831</td>\n",
       "      <td>0.191385</td>\n",
       "    </tr>\n",
       "    <tr>\n",
       "      <th>4998</th>\n",
       "      <td>0.199209</td>\n",
       "      <td>1.593622</td>\n",
       "      <td>-0.618094</td>\n",
       "      <td>0.027045</td>\n",
       "      <td>-1.255981</td>\n",
       "      <td>0.948803</td>\n",
       "      <td>0.398091</td>\n",
       "    </tr>\n",
       "    <tr>\n",
       "      <th>4999</th>\n",
       "      <td>1.665061</td>\n",
       "      <td>-0.877794</td>\n",
       "      <td>-1.243126</td>\n",
       "      <td>1.299760</td>\n",
       "      <td>1.590328</td>\n",
       "      <td>0.633146</td>\n",
       "      <td>-1.113506</td>\n",
       "    </tr>\n",
       "  </tbody>\n",
       "</table>\n",
       "<p>5000 rows × 7 columns</p>\n",
       "</div>"
      ],
      "text/plain": [
       "          date       age  distance    stores  latitude  longitude     price\n",
       "0     0.015978  0.181384  1.257002  0.345224 -0.307212  -1.260799  0.350088\n",
       "1    -0.350485 -1.319118 -0.930610 -0.609312  0.325301  -1.260799 -1.836486\n",
       "2     1.298598 -0.083410 -0.618094  0.663402  1.590328  -1.576456 -0.339584\n",
       "3    -1.266643 -0.524735 -0.930610 -0.927491 -1.572238   0.948803 -1.839425\n",
       "4     0.932135  0.534444  0.006938  0.981581 -1.255981  -0.945141  0.245266\n",
       "...        ...       ...       ...       ...       ...        ...       ...\n",
       "4995 -0.350485 -0.171675  0.319454 -0.609312  1.590328   0.001831 -0.360156\n",
       "4996  1.298598 -1.054324  1.569518 -1.563848  0.009045   1.264460  0.833055\n",
       "4997  1.481830 -1.142588  1.569518  0.027045  1.590328   0.001831  0.191385\n",
       "4998  0.199209  1.593622 -0.618094  0.027045 -1.255981   0.948803  0.398091\n",
       "4999  1.665061 -0.877794 -1.243126  1.299760  1.590328   0.633146 -1.113506\n",
       "\n",
       "[5000 rows x 7 columns]"
      ]
     },
     "execution_count": 6,
     "metadata": {},
     "output_type": "execute_result"
    }
   ],
   "source": [
    "def z_score(df):\n",
    "    return (df - df.mean())/df.std()\n",
    "house_data_norm = z_score(house_data)\n",
    "house_data_norm"
   ]
  },
  {
   "cell_type": "code",
   "execution_count": 84,
   "metadata": {},
   "outputs": [
    {
     "data": {
      "text/plain": [
       "0       14264.0\n",
       "1       12032.0\n",
       "2       13560.0\n",
       "3       12029.0\n",
       "4       14157.0\n",
       "         ...   \n",
       "4995    13539.0\n",
       "4996    14757.0\n",
       "4997    14102.0\n",
       "4998    14313.0\n",
       "4999    12770.0\n",
       "Name: price, Length: 5000, dtype: float64"
      ]
     },
     "execution_count": 84,
     "metadata": {},
     "output_type": "execute_result"
    }
   ],
   "source": [
    "def house_data_from_z(z_score, df):\n",
    "    return (z_score * df.std()) + df.mean()\n",
    "house_data_from_z(z_score(house_data[\"price\"]), house_data[\"price\"])"
   ]
  },
  {
   "cell_type": "markdown",
   "metadata": {},
   "source": [
    "## Creation of Training and Test sets"
   ]
  },
  {
   "cell_type": "code",
   "execution_count": 74,
   "metadata": {},
   "outputs": [
    {
     "data": {
      "text/html": [
       "<div>\n",
       "<style scoped>\n",
       "    .dataframe tbody tr th:only-of-type {\n",
       "        vertical-align: middle;\n",
       "    }\n",
       "\n",
       "    .dataframe tbody tr th {\n",
       "        vertical-align: top;\n",
       "    }\n",
       "\n",
       "    .dataframe thead th {\n",
       "        text-align: right;\n",
       "    }\n",
       "</style>\n",
       "<table border=\"1\" class=\"dataframe\">\n",
       "  <thead>\n",
       "    <tr style=\"text-align: right;\">\n",
       "      <th></th>\n",
       "      <th>date</th>\n",
       "      <th>age</th>\n",
       "      <th>distance</th>\n",
       "      <th>stores</th>\n",
       "      <th>latitude</th>\n",
       "      <th>longitude</th>\n",
       "    </tr>\n",
       "  </thead>\n",
       "  <tbody>\n",
       "    <tr>\n",
       "      <th>0</th>\n",
       "      <td>0.015978</td>\n",
       "      <td>0.181384</td>\n",
       "      <td>1.257002</td>\n",
       "      <td>0.345224</td>\n",
       "      <td>-0.307212</td>\n",
       "      <td>-1.260799</td>\n",
       "    </tr>\n",
       "    <tr>\n",
       "      <th>1</th>\n",
       "      <td>-0.350485</td>\n",
       "      <td>-1.319118</td>\n",
       "      <td>-0.930610</td>\n",
       "      <td>-0.609312</td>\n",
       "      <td>0.325301</td>\n",
       "      <td>-1.260799</td>\n",
       "    </tr>\n",
       "    <tr>\n",
       "      <th>2</th>\n",
       "      <td>1.298598</td>\n",
       "      <td>-0.083410</td>\n",
       "      <td>-0.618094</td>\n",
       "      <td>0.663402</td>\n",
       "      <td>1.590328</td>\n",
       "      <td>-1.576456</td>\n",
       "    </tr>\n",
       "    <tr>\n",
       "      <th>3</th>\n",
       "      <td>-1.266643</td>\n",
       "      <td>-0.524735</td>\n",
       "      <td>-0.930610</td>\n",
       "      <td>-0.927491</td>\n",
       "      <td>-1.572238</td>\n",
       "      <td>0.948803</td>\n",
       "    </tr>\n",
       "    <tr>\n",
       "      <th>4</th>\n",
       "      <td>0.932135</td>\n",
       "      <td>0.534444</td>\n",
       "      <td>0.006938</td>\n",
       "      <td>0.981581</td>\n",
       "      <td>-1.255981</td>\n",
       "      <td>-0.945141</td>\n",
       "    </tr>\n",
       "    <tr>\n",
       "      <th>...</th>\n",
       "      <td>...</td>\n",
       "      <td>...</td>\n",
       "      <td>...</td>\n",
       "      <td>...</td>\n",
       "      <td>...</td>\n",
       "      <td>...</td>\n",
       "    </tr>\n",
       "    <tr>\n",
       "      <th>4995</th>\n",
       "      <td>-0.350485</td>\n",
       "      <td>-0.171675</td>\n",
       "      <td>0.319454</td>\n",
       "      <td>-0.609312</td>\n",
       "      <td>1.590328</td>\n",
       "      <td>0.001831</td>\n",
       "    </tr>\n",
       "    <tr>\n",
       "      <th>4996</th>\n",
       "      <td>1.298598</td>\n",
       "      <td>-1.054324</td>\n",
       "      <td>1.569518</td>\n",
       "      <td>-1.563848</td>\n",
       "      <td>0.009045</td>\n",
       "      <td>1.264460</td>\n",
       "    </tr>\n",
       "    <tr>\n",
       "      <th>4997</th>\n",
       "      <td>1.481830</td>\n",
       "      <td>-1.142588</td>\n",
       "      <td>1.569518</td>\n",
       "      <td>0.027045</td>\n",
       "      <td>1.590328</td>\n",
       "      <td>0.001831</td>\n",
       "    </tr>\n",
       "    <tr>\n",
       "      <th>4998</th>\n",
       "      <td>0.199209</td>\n",
       "      <td>1.593622</td>\n",
       "      <td>-0.618094</td>\n",
       "      <td>0.027045</td>\n",
       "      <td>-1.255981</td>\n",
       "      <td>0.948803</td>\n",
       "    </tr>\n",
       "    <tr>\n",
       "      <th>4999</th>\n",
       "      <td>1.665061</td>\n",
       "      <td>-0.877794</td>\n",
       "      <td>-1.243126</td>\n",
       "      <td>1.299760</td>\n",
       "      <td>1.590328</td>\n",
       "      <td>0.633146</td>\n",
       "    </tr>\n",
       "  </tbody>\n",
       "</table>\n",
       "<p>5000 rows × 6 columns</p>\n",
       "</div>"
      ],
      "text/plain": [
       "          date       age  distance    stores  latitude  longitude\n",
       "0     0.015978  0.181384  1.257002  0.345224 -0.307212  -1.260799\n",
       "1    -0.350485 -1.319118 -0.930610 -0.609312  0.325301  -1.260799\n",
       "2     1.298598 -0.083410 -0.618094  0.663402  1.590328  -1.576456\n",
       "3    -1.266643 -0.524735 -0.930610 -0.927491 -1.572238   0.948803\n",
       "4     0.932135  0.534444  0.006938  0.981581 -1.255981  -0.945141\n",
       "...        ...       ...       ...       ...       ...        ...\n",
       "4995 -0.350485 -0.171675  0.319454 -0.609312  1.590328   0.001831\n",
       "4996  1.298598 -1.054324  1.569518 -1.563848  0.009045   1.264460\n",
       "4997  1.481830 -1.142588  1.569518  0.027045  1.590328   0.001831\n",
       "4998  0.199209  1.593622 -0.618094  0.027045 -1.255981   0.948803\n",
       "4999  1.665061 -0.877794 -1.243126  1.299760  1.590328   0.633146\n",
       "\n",
       "[5000 rows x 6 columns]"
      ]
     },
     "execution_count": 74,
     "metadata": {},
     "output_type": "execute_result"
    }
   ],
   "source": [
    "featured_data = house_data_norm.drop(\"price\", axis = 1)\n",
    "featured_data"
   ]
  },
  {
   "cell_type": "code",
   "execution_count": 9,
   "metadata": {},
   "outputs": [
    {
     "data": {
      "text/plain": [
       "0       0.350088\n",
       "1      -1.836486\n",
       "2      -0.339584\n",
       "3      -1.839425\n",
       "4       0.245266\n",
       "          ...   \n",
       "4995   -0.360156\n",
       "4996    0.833055\n",
       "4997    0.191385\n",
       "4998    0.398091\n",
       "4999   -1.113506\n",
       "Name: price, Length: 5000, dtype: float64"
      ]
     },
     "execution_count": 9,
     "metadata": {},
     "output_type": "execute_result"
    }
   ],
   "source": [
    "labeled_data = house_data_norm[\"price\"]\n",
    "labeled_data"
   ]
  },
  {
   "cell_type": "code",
   "execution_count": 19,
   "metadata": {},
   "outputs": [],
   "source": [
    "labeled_data_array = labeled_data.values\n",
    "featured_data_array = featured_data.values\n"
   ]
  },
  {
   "cell_type": "code",
   "execution_count": 27,
   "metadata": {},
   "outputs": [
    {
     "name": "stdout",
     "output_type": "stream",
     "text": [
      "(4750, 6)\n",
      "(250, 6)\n",
      "(250,)\n",
      "(4750,)\n"
     ]
    }
   ],
   "source": [
    "fea_train, fea_test, lab_train, lab_test = train_test_split(featured_data_array,\n",
    "                                                            labeled_data_array,\n",
    "                                                            test_size = 0.05,\n",
    "                                                            random_state = 0) \n",
    "print(fea_train.shape)\n",
    "print(fea_test.shape)\n",
    "print(lab_test.shape)\n",
    "print(lab_train.shape)"
   ]
  },
  {
   "cell_type": "markdown",
   "metadata": {},
   "source": [
    "## Creation of a Model"
   ]
  },
  {
   "cell_type": "code",
   "execution_count": 39,
   "metadata": {},
   "outputs": [
    {
     "name": "stdout",
     "output_type": "stream",
     "text": [
      "Model: \"sequential\"\n",
      "_________________________________________________________________\n",
      "Layer (type)                 Output Shape              Param #   \n",
      "=================================================================\n",
      "dense (Dense)                (None, 10)                70        \n",
      "_________________________________________________________________\n",
      "dense_1 (Dense)              (None, 10)                110       \n",
      "_________________________________________________________________\n",
      "dense_2 (Dense)              (None, 5)                 55        \n",
      "_________________________________________________________________\n",
      "dense_3 (Dense)              (None, 1)                 6         \n",
      "=================================================================\n",
      "Total params: 241\n",
      "Trainable params: 241\n",
      "Non-trainable params: 0\n",
      "_________________________________________________________________\n"
     ]
    }
   ],
   "source": [
    "def get_model():\n",
    "    model = Sequential([Dense(10, input_shape = (6,), activation = 'relu'),\n",
    "                        Dense(10,  activation = 'relu'),\n",
    "                        Dense(5,  activation = 'relu'),\n",
    "                        Dense(1)\n",
    "\n",
    "    ])\n",
    "    model.compile(loss = 'mse',\n",
    "                  optimizer = 'adam')\n",
    "    return model\n",
    "get_model().summary()"
   ]
  },
  {
   "cell_type": "code",
   "execution_count": 42,
   "metadata": {},
   "outputs": [
    {
     "name": "stdout",
     "output_type": "stream",
     "text": [
      "Train on 4750 samples, validate on 250 samples\n",
      "Epoch 1/100\n",
      "4750/4750 [==============================] - 1s 205us/sample - loss: 0.7223 - val_loss: 0.4355\n",
      "Epoch 2/100\n",
      "4750/4750 [==============================] - 0s 44us/sample - loss: 0.3895 - val_loss: 0.2183\n",
      "Epoch 3/100\n",
      "4750/4750 [==============================] - ETA: 0s - loss: 0.198 - 0s 43us/sample - loss: 0.1987 - val_loss: 0.1830\n",
      "Epoch 4/100\n",
      "4750/4750 [==============================] - 0s 44us/sample - loss: 0.1769 - val_loss: 0.1672\n",
      "Epoch 5/100\n",
      "4750/4750 [==============================] - 0s 44us/sample - loss: 0.1694 - val_loss: 0.1647\n",
      "Epoch 6/100\n",
      "4750/4750 [==============================] - 0s 54us/sample - loss: 0.1646 - val_loss: 0.1634\n",
      "Epoch 7/100\n",
      "4750/4750 [==============================] - 0s 45us/sample - loss: 0.1617 - val_loss: 0.1608\n",
      "Epoch 8/100\n",
      "4750/4750 [==============================] - 0s 44us/sample - loss: 0.1598 - val_loss: 0.1570\n",
      "Epoch 9/100\n",
      "4750/4750 [==============================] - 0s 43us/sample - loss: 0.1586 - val_loss: 0.1600\n",
      "Epoch 10/100\n",
      "4750/4750 [==============================] - 0s 47us/sample - loss: 0.1573 - val_loss: 0.1572\n",
      "Epoch 11/100\n",
      "4750/4750 [==============================] - 0s 52us/sample - loss: 0.1562 - val_loss: 0.1571\n",
      "Epoch 12/100\n",
      "4750/4750 [==============================] - 0s 50us/sample - loss: 0.1556 - val_loss: 0.1567\n",
      "Epoch 13/100\n",
      "4750/4750 [==============================] - 0s 45us/sample - loss: 0.1546 - val_loss: 0.1544\n",
      "Epoch 14/100\n",
      "4750/4750 [==============================] - 0s 44us/sample - loss: 0.1544 - val_loss: 0.1554\n",
      "Epoch 15/100\n",
      "4750/4750 [==============================] - 0s 45us/sample - loss: 0.1539 - val_loss: 0.1558\n",
      "Epoch 16/100\n",
      "4750/4750 [==============================] - 0s 45us/sample - loss: 0.1537 - val_loss: 0.1582\n",
      "Epoch 17/100\n",
      "4750/4750 [==============================] - 0s 43us/sample - loss: 0.1533 - val_loss: 0.1506\n",
      "Epoch 18/100\n",
      "4750/4750 [==============================] - 0s 44us/sample - loss: 0.1528 - val_loss: 0.1526\n",
      "Epoch 19/100\n",
      "4750/4750 [==============================] - 0s 44us/sample - loss: 0.1528 - val_loss: 0.1559\n",
      "Epoch 20/100\n",
      "4750/4750 [==============================] - 0s 51us/sample - loss: 0.1526 - val_loss: 0.1551\n",
      "Epoch 21/100\n",
      "4750/4750 [==============================] - 0s 47us/sample - loss: 0.1527 - val_loss: 0.1524\n",
      "Epoch 22/100\n",
      "4750/4750 [==============================] - 0s 50us/sample - loss: 0.1519 - val_loss: 0.1531\n"
     ]
    }
   ],
   "source": [
    "es_cb = EarlyStopping(monitor = 'val_loss', patience = 5)\n",
    "model = get_model()\n",
    "preds_on_untrained = model.predict(fea_test)\n",
    "history = model.fit(fea_train,\n",
    "                    lab_train, validation_data = (fea_test, lab_test),\n",
    "                    epochs = 100, \n",
    "                    callbacks = [es_cb])"
   ]
  },
  {
   "cell_type": "code",
   "execution_count": 45,
   "metadata": {},
   "outputs": [
    {
     "data": {
      "image/png": "[encoded data removed]",
      "text/plain": [
       "<Figure size 576x576 with 1 Axes>"
      ]
     },
     "metadata": {
      "needs_background": "light"
     },
     "output_type": "display_data"
    }
   ],
   "source": [
    "#To plot the training and validation loss\n",
    "plot_loss(history)"
   ]
  },
  {
   "cell_type": "markdown",
   "metadata": {},
   "source": [
    "## Plotting of the model"
   ]
  },
  {
   "cell_type": "code",
   "execution_count": 80,
   "metadata": {},
   "outputs": [
    {
     "data": {
      "image/png": "[encoded data removed]",
      "text/plain": [
       "<Figure size 576x576 with 1 Axes>"
      ]
     },
     "metadata": {
      "needs_background": "light"
     },
     "output_type": "display_data"
    }
   ],
   "source": [
    "preds_on_trained = model.predict(fea_test)\n",
    "compare_predictions(preds_on_untrained, preds_on_trained, lab_test)"
   ]
  },
  {
   "cell_type": "code",
   "execution_count": null,
   "metadata": {},
   "outputs": [],
   "source": []
  }
 ],
 "metadata": {
  "kernelspec": {
   "display_name": "Python 3",
   "language": "python",
   "name": "python3"
  },
  "language_info": {
   "codemirror_mode": {
    "name": "ipython",
    "version": 3
   },
   "file_extension": ".py",
   "mimetype": "text/x-python",
   "name": "python",
   "nbconvert_exporter": "python",
   "pygments_lexer": "ipython3",
   "version": "3.7.4"
  }
 },
 "nbformat": 4,
 "nbformat_minor": 2
}
